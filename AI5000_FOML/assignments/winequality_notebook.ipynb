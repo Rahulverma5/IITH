{
 "cells": [
  {
   "cell_type": "markdown",
   "metadata": {
    "id": "tIbT9_HmmxJx"
   },
   "source": [
    "## Red Wine data analysis"
   ]
  },
  {
   "cell_type": "code",
   "execution_count": 1,
   "metadata": {
    "id": "BG0Epj7ImqZX"
   },
   "outputs": [],
   "source": [
    "#importing libraries\n",
    "import pandas as pd\n",
    "import numpy as np"
   ]
  },
  {
   "cell_type": "code",
   "execution_count": 2,
   "metadata": {
    "id": "wlRisasmKLU3"
   },
   "outputs": [],
   "source": [
    "#loading data as pandas dataframe\n",
    "df = pd.read_csv(\"winequality_red.csv\")"
   ]
  },
  {
   "cell_type": "markdown",
   "metadata": {
    "id": "XB2ysGa-LvYN"
   },
   "source": [
    "Exploratory data analysis"
   ]
  },
  {
   "cell_type": "code",
   "execution_count": 3,
   "metadata": {
    "colab": {
     "base_uri": "https://localhost:8080/",
     "height": 261
    },
    "id": "C_O1fF5lL-UV",
    "outputId": "122d15f8-c258-42e1-c725-345932d5a158"
   },
   "outputs": [
    {
     "data": {
      "text/html": [
       "<div>\n",
       "<style scoped>\n",
       "    .dataframe tbody tr th:only-of-type {\n",
       "        vertical-align: middle;\n",
       "    }\n",
       "\n",
       "    .dataframe tbody tr th {\n",
       "        vertical-align: top;\n",
       "    }\n",
       "\n",
       "    .dataframe thead th {\n",
       "        text-align: right;\n",
       "    }\n",
       "</style>\n",
       "<table border=\"1\" class=\"dataframe\">\n",
       "  <thead>\n",
       "    <tr style=\"text-align: right;\">\n",
       "      <th></th>\n",
       "      <th>fixed acidity</th>\n",
       "      <th>volatile acidity</th>\n",
       "      <th>citric acid</th>\n",
       "      <th>residual sugar</th>\n",
       "      <th>chlorides</th>\n",
       "      <th>free sulfur dioxide</th>\n",
       "      <th>total sulfur dioxide</th>\n",
       "      <th>density</th>\n",
       "      <th>pH</th>\n",
       "      <th>sulphates</th>\n",
       "      <th>alcohol</th>\n",
       "      <th>quality</th>\n",
       "    </tr>\n",
       "  </thead>\n",
       "  <tbody>\n",
       "    <tr>\n",
       "      <th>0</th>\n",
       "      <td>7.4</td>\n",
       "      <td>0.70</td>\n",
       "      <td>0.00</td>\n",
       "      <td>1.9</td>\n",
       "      <td>0.076</td>\n",
       "      <td>11</td>\n",
       "      <td>34</td>\n",
       "      <td>0.9978</td>\n",
       "      <td>3.51</td>\n",
       "      <td>0.56</td>\n",
       "      <td>9.4</td>\n",
       "      <td>5</td>\n",
       "    </tr>\n",
       "    <tr>\n",
       "      <th>1</th>\n",
       "      <td>7.8</td>\n",
       "      <td>0.88</td>\n",
       "      <td>0.00</td>\n",
       "      <td>2.6</td>\n",
       "      <td>0.098</td>\n",
       "      <td>25</td>\n",
       "      <td>67</td>\n",
       "      <td>0.9968</td>\n",
       "      <td>3.20</td>\n",
       "      <td>0.68</td>\n",
       "      <td>9.8</td>\n",
       "      <td>5</td>\n",
       "    </tr>\n",
       "    <tr>\n",
       "      <th>2</th>\n",
       "      <td>7.8</td>\n",
       "      <td>0.76</td>\n",
       "      <td>0.04</td>\n",
       "      <td>2.3</td>\n",
       "      <td>0.092</td>\n",
       "      <td>15</td>\n",
       "      <td>54</td>\n",
       "      <td>0.9970</td>\n",
       "      <td>3.26</td>\n",
       "      <td>0.65</td>\n",
       "      <td>9.8</td>\n",
       "      <td>5</td>\n",
       "    </tr>\n",
       "    <tr>\n",
       "      <th>3</th>\n",
       "      <td>11.2</td>\n",
       "      <td>0.28</td>\n",
       "      <td>0.56</td>\n",
       "      <td>1.9</td>\n",
       "      <td>0.075</td>\n",
       "      <td>17</td>\n",
       "      <td>60</td>\n",
       "      <td>0.9980</td>\n",
       "      <td>3.16</td>\n",
       "      <td>0.58</td>\n",
       "      <td>9.8</td>\n",
       "      <td>6</td>\n",
       "    </tr>\n",
       "    <tr>\n",
       "      <th>4</th>\n",
       "      <td>7.4</td>\n",
       "      <td>0.70</td>\n",
       "      <td>0.00</td>\n",
       "      <td>1.9</td>\n",
       "      <td>0.076</td>\n",
       "      <td>11</td>\n",
       "      <td>34</td>\n",
       "      <td>0.9978</td>\n",
       "      <td>3.51</td>\n",
       "      <td>0.56</td>\n",
       "      <td>9.4</td>\n",
       "      <td>5</td>\n",
       "    </tr>\n",
       "  </tbody>\n",
       "</table>\n",
       "</div>"
      ],
      "text/plain": [
       "   fixed acidity  volatile acidity  citric acid  residual sugar  chlorides  \\\n",
       "0            7.4              0.70         0.00             1.9      0.076   \n",
       "1            7.8              0.88         0.00             2.6      0.098   \n",
       "2            7.8              0.76         0.04             2.3      0.092   \n",
       "3           11.2              0.28         0.56             1.9      0.075   \n",
       "4            7.4              0.70         0.00             1.9      0.076   \n",
       "\n",
       "   free sulfur dioxide  total sulfur dioxide  density    pH  sulphates  \\\n",
       "0                   11                    34   0.9978  3.51       0.56   \n",
       "1                   25                    67   0.9968  3.20       0.68   \n",
       "2                   15                    54   0.9970  3.26       0.65   \n",
       "3                   17                    60   0.9980  3.16       0.58   \n",
       "4                   11                    34   0.9978  3.51       0.56   \n",
       "\n",
       "   alcohol  quality  \n",
       "0      9.4        5  \n",
       "1      9.8        5  \n",
       "2      9.8        5  \n",
       "3      9.8        6  \n",
       "4      9.4        5  "
      ]
     },
     "execution_count": 3,
     "metadata": {},
     "output_type": "execute_result"
    }
   ],
   "source": [
    "df.head()"
   ]
  },
  {
   "cell_type": "code",
   "execution_count": 4,
   "metadata": {
    "colab": {
     "base_uri": "https://localhost:8080/",
     "height": 355
    },
    "id": "ST3DAbhIKXIu",
    "outputId": "3680d1e5-a9d5-4ab6-a1bf-e6368b94f518"
   },
   "outputs": [
    {
     "data": {
      "text/html": [
       "<div>\n",
       "<style scoped>\n",
       "    .dataframe tbody tr th:only-of-type {\n",
       "        vertical-align: middle;\n",
       "    }\n",
       "\n",
       "    .dataframe tbody tr th {\n",
       "        vertical-align: top;\n",
       "    }\n",
       "\n",
       "    .dataframe thead th {\n",
       "        text-align: right;\n",
       "    }\n",
       "</style>\n",
       "<table border=\"1\" class=\"dataframe\">\n",
       "  <thead>\n",
       "    <tr style=\"text-align: right;\">\n",
       "      <th></th>\n",
       "      <th>fixed acidity</th>\n",
       "      <th>volatile acidity</th>\n",
       "      <th>citric acid</th>\n",
       "      <th>residual sugar</th>\n",
       "      <th>chlorides</th>\n",
       "      <th>free sulfur dioxide</th>\n",
       "      <th>total sulfur dioxide</th>\n",
       "      <th>density</th>\n",
       "      <th>pH</th>\n",
       "      <th>sulphates</th>\n",
       "      <th>alcohol</th>\n",
       "      <th>quality</th>\n",
       "    </tr>\n",
       "  </thead>\n",
       "  <tbody>\n",
       "    <tr>\n",
       "      <th>count</th>\n",
       "      <td>1599.000000</td>\n",
       "      <td>1599.000000</td>\n",
       "      <td>1599.000000</td>\n",
       "      <td>1599.000000</td>\n",
       "      <td>1599.000000</td>\n",
       "      <td>1599.000000</td>\n",
       "      <td>1599.000000</td>\n",
       "      <td>1599.000000</td>\n",
       "      <td>1599.000000</td>\n",
       "      <td>1599.000000</td>\n",
       "      <td>1599.000000</td>\n",
       "      <td>1599.000000</td>\n",
       "    </tr>\n",
       "    <tr>\n",
       "      <th>mean</th>\n",
       "      <td>8.319637</td>\n",
       "      <td>0.527821</td>\n",
       "      <td>0.270976</td>\n",
       "      <td>2.538806</td>\n",
       "      <td>0.087467</td>\n",
       "      <td>15.875547</td>\n",
       "      <td>46.468418</td>\n",
       "      <td>0.996747</td>\n",
       "      <td>3.311113</td>\n",
       "      <td>0.658149</td>\n",
       "      <td>10.422983</td>\n",
       "      <td>5.636023</td>\n",
       "    </tr>\n",
       "    <tr>\n",
       "      <th>std</th>\n",
       "      <td>1.741096</td>\n",
       "      <td>0.179060</td>\n",
       "      <td>0.194801</td>\n",
       "      <td>1.409928</td>\n",
       "      <td>0.047065</td>\n",
       "      <td>10.460434</td>\n",
       "      <td>32.895920</td>\n",
       "      <td>0.001887</td>\n",
       "      <td>0.154386</td>\n",
       "      <td>0.169507</td>\n",
       "      <td>1.065668</td>\n",
       "      <td>0.807569</td>\n",
       "    </tr>\n",
       "    <tr>\n",
       "      <th>min</th>\n",
       "      <td>4.600000</td>\n",
       "      <td>0.120000</td>\n",
       "      <td>0.000000</td>\n",
       "      <td>0.900000</td>\n",
       "      <td>0.012000</td>\n",
       "      <td>1.000000</td>\n",
       "      <td>6.000000</td>\n",
       "      <td>0.990070</td>\n",
       "      <td>2.740000</td>\n",
       "      <td>0.330000</td>\n",
       "      <td>8.400000</td>\n",
       "      <td>3.000000</td>\n",
       "    </tr>\n",
       "    <tr>\n",
       "      <th>25%</th>\n",
       "      <td>7.100000</td>\n",
       "      <td>0.390000</td>\n",
       "      <td>0.090000</td>\n",
       "      <td>1.900000</td>\n",
       "      <td>0.070000</td>\n",
       "      <td>7.000000</td>\n",
       "      <td>22.000000</td>\n",
       "      <td>0.995600</td>\n",
       "      <td>3.210000</td>\n",
       "      <td>0.550000</td>\n",
       "      <td>9.500000</td>\n",
       "      <td>5.000000</td>\n",
       "    </tr>\n",
       "    <tr>\n",
       "      <th>50%</th>\n",
       "      <td>7.900000</td>\n",
       "      <td>0.520000</td>\n",
       "      <td>0.260000</td>\n",
       "      <td>2.200000</td>\n",
       "      <td>0.079000</td>\n",
       "      <td>14.000000</td>\n",
       "      <td>38.000000</td>\n",
       "      <td>0.996750</td>\n",
       "      <td>3.310000</td>\n",
       "      <td>0.620000</td>\n",
       "      <td>10.200000</td>\n",
       "      <td>6.000000</td>\n",
       "    </tr>\n",
       "    <tr>\n",
       "      <th>75%</th>\n",
       "      <td>9.200000</td>\n",
       "      <td>0.640000</td>\n",
       "      <td>0.420000</td>\n",
       "      <td>2.600000</td>\n",
       "      <td>0.090000</td>\n",
       "      <td>21.000000</td>\n",
       "      <td>62.000000</td>\n",
       "      <td>0.997835</td>\n",
       "      <td>3.400000</td>\n",
       "      <td>0.730000</td>\n",
       "      <td>11.100000</td>\n",
       "      <td>6.000000</td>\n",
       "    </tr>\n",
       "    <tr>\n",
       "      <th>max</th>\n",
       "      <td>15.900000</td>\n",
       "      <td>1.580000</td>\n",
       "      <td>1.000000</td>\n",
       "      <td>15.500000</td>\n",
       "      <td>0.611000</td>\n",
       "      <td>72.000000</td>\n",
       "      <td>289.000000</td>\n",
       "      <td>1.003690</td>\n",
       "      <td>4.010000</td>\n",
       "      <td>2.000000</td>\n",
       "      <td>14.900000</td>\n",
       "      <td>8.000000</td>\n",
       "    </tr>\n",
       "  </tbody>\n",
       "</table>\n",
       "</div>"
      ],
      "text/plain": [
       "       fixed acidity  volatile acidity  citric acid  residual sugar  \\\n",
       "count    1599.000000       1599.000000  1599.000000     1599.000000   \n",
       "mean        8.319637          0.527821     0.270976        2.538806   \n",
       "std         1.741096          0.179060     0.194801        1.409928   \n",
       "min         4.600000          0.120000     0.000000        0.900000   \n",
       "25%         7.100000          0.390000     0.090000        1.900000   \n",
       "50%         7.900000          0.520000     0.260000        2.200000   \n",
       "75%         9.200000          0.640000     0.420000        2.600000   \n",
       "max        15.900000          1.580000     1.000000       15.500000   \n",
       "\n",
       "         chlorides  free sulfur dioxide  total sulfur dioxide      density  \\\n",
       "count  1599.000000          1599.000000           1599.000000  1599.000000   \n",
       "mean      0.087467            15.875547             46.468418     0.996747   \n",
       "std       0.047065            10.460434             32.895920     0.001887   \n",
       "min       0.012000             1.000000              6.000000     0.990070   \n",
       "25%       0.070000             7.000000             22.000000     0.995600   \n",
       "50%       0.079000            14.000000             38.000000     0.996750   \n",
       "75%       0.090000            21.000000             62.000000     0.997835   \n",
       "max       0.611000            72.000000            289.000000     1.003690   \n",
       "\n",
       "                pH    sulphates      alcohol      quality  \n",
       "count  1599.000000  1599.000000  1599.000000  1599.000000  \n",
       "mean      3.311113     0.658149    10.422983     5.636023  \n",
       "std       0.154386     0.169507     1.065668     0.807569  \n",
       "min       2.740000     0.330000     8.400000     3.000000  \n",
       "25%       3.210000     0.550000     9.500000     5.000000  \n",
       "50%       3.310000     0.620000    10.200000     6.000000  \n",
       "75%       3.400000     0.730000    11.100000     6.000000  \n",
       "max       4.010000     2.000000    14.900000     8.000000  "
      ]
     },
     "execution_count": 4,
     "metadata": {},
     "output_type": "execute_result"
    }
   ],
   "source": [
    "df.describe()"
   ]
  },
  {
   "cell_type": "code",
   "execution_count": 5,
   "metadata": {
    "colab": {
     "base_uri": "https://localhost:8080/"
    },
    "id": "eQRYMZJuLs7D",
    "outputId": "a610ba53-569a-4503-a7ed-91eaabb059db"
   },
   "outputs": [
    {
     "data": {
      "text/plain": [
       "5    681\n",
       "6    638\n",
       "7    199\n",
       "4     53\n",
       "8     18\n",
       "3     10\n",
       "Name: quality, dtype: int64"
      ]
     },
     "execution_count": 5,
     "metadata": {},
     "output_type": "execute_result"
    }
   ],
   "source": [
    "df[\"quality\"].value_counts()"
   ]
  },
  {
   "cell_type": "markdown",
   "metadata": {
    "id": "0vitz3r5OkhC"
   },
   "source": [
    "* Target variable which is \"quality\" has value count from 3 to 8. Also, data is not imbalanced. So we can apply ordinal regression for this problem."
   ]
  },
  {
   "cell_type": "code",
   "execution_count": 6,
   "metadata": {
    "colab": {
     "base_uri": "https://localhost:8080/"
    },
    "id": "i5WYHIb3ODEa",
    "outputId": "5d273e0c-3f0d-476d-c36a-c0c3222daa03"
   },
   "outputs": [
    {
     "data": {
      "text/plain": [
       "fixed acidity           0\n",
       "volatile acidity        0\n",
       "citric acid             0\n",
       "residual sugar          0\n",
       "chlorides               0\n",
       "free sulfur dioxide     0\n",
       "total sulfur dioxide    0\n",
       "density                 0\n",
       "pH                      0\n",
       "sulphates               0\n",
       "alcohol                 0\n",
       "quality                 0\n",
       "dtype: int64"
      ]
     },
     "execution_count": 6,
     "metadata": {},
     "output_type": "execute_result"
    }
   ],
   "source": [
    "#check missing values\n",
    "df.isnull().sum()"
   ]
  },
  {
   "cell_type": "markdown",
   "metadata": {
    "id": "TBhUKB5cPReY"
   },
   "source": [
    "* data does not have any missing values."
   ]
  },
  {
   "cell_type": "markdown",
   "metadata": {
    "id": "GLl5LUJ0Po-7"
   },
   "source": [
    "### Visualizing data"
   ]
  },
  {
   "cell_type": "code",
   "execution_count": 7,
   "metadata": {
    "colab": {
     "base_uri": "https://localhost:8080/",
     "height": 466
    },
    "id": "qo_-QogoPN6Q",
    "outputId": "f91fccb9-6afc-40f6-f34a-d820841e6ec3"
   },
   "outputs": [
    {
     "name": "stderr",
     "output_type": "stream",
     "text": [
      "c:\\users\\rahul-pc\\appdata\\local\\programs\\python\\python39\\lib\\site-packages\\seaborn\\_decorators.py:36: FutureWarning: Pass the following variable as a keyword arg: x. From version 0.12, the only valid positional argument will be `data`, and passing other arguments without an explicit keyword will result in an error or misinterpretation.\n",
      "  warnings.warn(\n"
     ]
    },
    {
     "data": {
      "text/plain": [
       "<AxesSubplot:xlabel='quality', ylabel='count'>"
      ]
     },
     "execution_count": 7,
     "metadata": {},
     "output_type": "execute_result"
    },
    {
     "data": {
      "image/png": "[encoded data removed]",
      "text/plain": [
       "<Figure size 432x288 with 1 Axes>"
      ]
     },
     "metadata": {
      "needs_background": "light"
     },
     "output_type": "display_data"
    }
   ],
   "source": [
    "import seaborn as sns\n",
    "\n",
    "sns.countplot(df[\"quality\"])"
   ]
  },
  {
   "cell_type": "markdown",
   "metadata": {
    "id": "JMAJ4oEUm0rk"
   },
   "source": [
    "* Clearly, we can see most of the data is centered at 5 and 6 quality level.\n"
   ]
  },
  {
   "cell_type": "code",
   "execution_count": 8,
   "metadata": {
    "colab": {
     "base_uri": "https://localhost:8080/",
     "height": 446
    },
    "id": "xja5gWKLP5XV",
    "outputId": "c0e7e83f-51df-443f-a6f2-f67d67fef9da"
   },
   "outputs": [
    {
     "data": {
      "image/png": "[encoded data removed]",
      "text/plain": [
       "<Figure size 1440x720 with 12 Axes>"
      ]
     },
     "metadata": {
      "needs_background": "light"
     },
     "output_type": "display_data"
    }
   ],
   "source": [
    "import matplotlib.pyplot as plt\n",
    "\n",
    "fig, ax = plt.subplots(3, 4, figsize=(20, 10))\n",
    "for value, subplot in zip(range(0,11), ax.flatten()):\n",
    "    sns.barplot(x=df['quality'], y=df[df.columns[value]],ax=subplot)\n",
    "\n",
    "fig.tight_layout()\n",
    "plt.show()"
   ]
  },
  {
   "cell_type": "markdown",
   "metadata": {
    "id": "Asu8ZFdGmcXi"
   },
   "source": [
    "\n",
    "The barplots indicate that the most influential parameters explaining wine quality are volatile acidity, citric acid, chlorides, sulphates, and alcohol. Sulfur dioxide is noteworthy because it behaves differently."
   ]
  },
  {
   "cell_type": "code",
   "execution_count": 9,
   "metadata": {
    "colab": {
     "base_uri": "https://localhost:8080/",
     "height": 619
    },
    "id": "-O7XVJAIo8vA",
    "outputId": "1588f3ac-ba32-41d9-ddcc-ef6b07273f7e"
   },
   "outputs": [
    {
     "data": {
      "text/html": [
       "<div>\n",
       "<style scoped>\n",
       "    .dataframe tbody tr th:only-of-type {\n",
       "        vertical-align: middle;\n",
       "    }\n",
       "\n",
       "    .dataframe tbody tr th {\n",
       "        vertical-align: top;\n",
       "    }\n",
       "\n",
       "    .dataframe thead th {\n",
       "        text-align: right;\n",
       "    }\n",
       "</style>\n",
       "<table border=\"1\" class=\"dataframe\">\n",
       "  <thead>\n",
       "    <tr style=\"text-align: right;\">\n",
       "      <th></th>\n",
       "      <th>fixed acidity</th>\n",
       "      <th>volatile acidity</th>\n",
       "      <th>citric acid</th>\n",
       "      <th>residual sugar</th>\n",
       "      <th>chlorides</th>\n",
       "      <th>free sulfur dioxide</th>\n",
       "      <th>total sulfur dioxide</th>\n",
       "      <th>density</th>\n",
       "      <th>pH</th>\n",
       "      <th>sulphates</th>\n",
       "      <th>alcohol</th>\n",
       "      <th>quality</th>\n",
       "    </tr>\n",
       "  </thead>\n",
       "  <tbody>\n",
       "    <tr>\n",
       "      <th>fixed acidity</th>\n",
       "      <td>1.000000</td>\n",
       "      <td>-0.256131</td>\n",
       "      <td>0.671703</td>\n",
       "      <td>0.114777</td>\n",
       "      <td>0.093705</td>\n",
       "      <td>-0.153791</td>\n",
       "      <td>-0.113198</td>\n",
       "      <td>0.668047</td>\n",
       "      <td>-0.682978</td>\n",
       "      <td>0.183006</td>\n",
       "      <td>-0.061668</td>\n",
       "      <td>0.124052</td>\n",
       "    </tr>\n",
       "    <tr>\n",
       "      <th>volatile acidity</th>\n",
       "      <td>-0.256131</td>\n",
       "      <td>1.000000</td>\n",
       "      <td>-0.552496</td>\n",
       "      <td>0.001918</td>\n",
       "      <td>0.061298</td>\n",
       "      <td>-0.010487</td>\n",
       "      <td>0.076479</td>\n",
       "      <td>0.022026</td>\n",
       "      <td>0.234937</td>\n",
       "      <td>-0.260987</td>\n",
       "      <td>-0.202288</td>\n",
       "      <td>-0.390558</td>\n",
       "    </tr>\n",
       "    <tr>\n",
       "      <th>citric acid</th>\n",
       "      <td>0.671703</td>\n",
       "      <td>-0.552496</td>\n",
       "      <td>1.000000</td>\n",
       "      <td>0.143577</td>\n",
       "      <td>0.203823</td>\n",
       "      <td>-0.060885</td>\n",
       "      <td>0.035506</td>\n",
       "      <td>0.364947</td>\n",
       "      <td>-0.541904</td>\n",
       "      <td>0.312770</td>\n",
       "      <td>0.109903</td>\n",
       "      <td>0.226373</td>\n",
       "    </tr>\n",
       "    <tr>\n",
       "      <th>residual sugar</th>\n",
       "      <td>0.114777</td>\n",
       "      <td>0.001918</td>\n",
       "      <td>0.143577</td>\n",
       "      <td>1.000000</td>\n",
       "      <td>0.055610</td>\n",
       "      <td>0.187310</td>\n",
       "      <td>0.203048</td>\n",
       "      <td>0.355283</td>\n",
       "      <td>-0.085652</td>\n",
       "      <td>0.005527</td>\n",
       "      <td>0.042075</td>\n",
       "      <td>0.013732</td>\n",
       "    </tr>\n",
       "    <tr>\n",
       "      <th>chlorides</th>\n",
       "      <td>0.093705</td>\n",
       "      <td>0.061298</td>\n",
       "      <td>0.203823</td>\n",
       "      <td>0.055610</td>\n",
       "      <td>1.000000</td>\n",
       "      <td>0.005627</td>\n",
       "      <td>0.047402</td>\n",
       "      <td>0.200632</td>\n",
       "      <td>-0.265026</td>\n",
       "      <td>0.371260</td>\n",
       "      <td>-0.221141</td>\n",
       "      <td>-0.128907</td>\n",
       "    </tr>\n",
       "    <tr>\n",
       "      <th>free sulfur dioxide</th>\n",
       "      <td>-0.153791</td>\n",
       "      <td>-0.010487</td>\n",
       "      <td>-0.060885</td>\n",
       "      <td>0.187310</td>\n",
       "      <td>0.005627</td>\n",
       "      <td>1.000000</td>\n",
       "      <td>0.668025</td>\n",
       "      <td>-0.021981</td>\n",
       "      <td>0.070288</td>\n",
       "      <td>0.051606</td>\n",
       "      <td>-0.069346</td>\n",
       "      <td>-0.050554</td>\n",
       "    </tr>\n",
       "    <tr>\n",
       "      <th>total sulfur dioxide</th>\n",
       "      <td>-0.113198</td>\n",
       "      <td>0.076479</td>\n",
       "      <td>0.035506</td>\n",
       "      <td>0.203048</td>\n",
       "      <td>0.047402</td>\n",
       "      <td>0.668025</td>\n",
       "      <td>1.000000</td>\n",
       "      <td>0.071256</td>\n",
       "      <td>-0.066507</td>\n",
       "      <td>0.042923</td>\n",
       "      <td>-0.205667</td>\n",
       "      <td>-0.185112</td>\n",
       "    </tr>\n",
       "    <tr>\n",
       "      <th>density</th>\n",
       "      <td>0.668047</td>\n",
       "      <td>0.022026</td>\n",
       "      <td>0.364947</td>\n",
       "      <td>0.355283</td>\n",
       "      <td>0.200632</td>\n",
       "      <td>-0.021981</td>\n",
       "      <td>0.071256</td>\n",
       "      <td>1.000000</td>\n",
       "      <td>-0.341699</td>\n",
       "      <td>0.148506</td>\n",
       "      <td>-0.496180</td>\n",
       "      <td>-0.174919</td>\n",
       "    </tr>\n",
       "    <tr>\n",
       "      <th>pH</th>\n",
       "      <td>-0.682978</td>\n",
       "      <td>0.234937</td>\n",
       "      <td>-0.541904</td>\n",
       "      <td>-0.085652</td>\n",
       "      <td>-0.265026</td>\n",
       "      <td>0.070288</td>\n",
       "      <td>-0.066507</td>\n",
       "      <td>-0.341699</td>\n",
       "      <td>1.000000</td>\n",
       "      <td>-0.196648</td>\n",
       "      <td>0.205633</td>\n",
       "      <td>-0.057731</td>\n",
       "    </tr>\n",
       "    <tr>\n",
       "      <th>sulphates</th>\n",
       "      <td>0.183006</td>\n",
       "      <td>-0.260987</td>\n",
       "      <td>0.312770</td>\n",
       "      <td>0.005527</td>\n",
       "      <td>0.371260</td>\n",
       "      <td>0.051606</td>\n",
       "      <td>0.042923</td>\n",
       "      <td>0.148506</td>\n",
       "      <td>-0.196648</td>\n",
       "      <td>1.000000</td>\n",
       "      <td>0.093595</td>\n",
       "      <td>0.251397</td>\n",
       "    </tr>\n",
       "    <tr>\n",
       "      <th>alcohol</th>\n",
       "      <td>-0.061668</td>\n",
       "      <td>-0.202288</td>\n",
       "      <td>0.109903</td>\n",
       "      <td>0.042075</td>\n",
       "      <td>-0.221141</td>\n",
       "      <td>-0.069346</td>\n",
       "      <td>-0.205667</td>\n",
       "      <td>-0.496180</td>\n",
       "      <td>0.205633</td>\n",
       "      <td>0.093595</td>\n",
       "      <td>1.000000</td>\n",
       "      <td>0.476166</td>\n",
       "    </tr>\n",
       "    <tr>\n",
       "      <th>quality</th>\n",
       "      <td>0.124052</td>\n",
       "      <td>-0.390558</td>\n",
       "      <td>0.226373</td>\n",
       "      <td>0.013732</td>\n",
       "      <td>-0.128907</td>\n",
       "      <td>-0.050554</td>\n",
       "      <td>-0.185112</td>\n",
       "      <td>-0.174919</td>\n",
       "      <td>-0.057731</td>\n",
       "      <td>0.251397</td>\n",
       "      <td>0.476166</td>\n",
       "      <td>1.000000</td>\n",
       "    </tr>\n",
       "  </tbody>\n",
       "</table>\n",
       "</div>"
      ],
      "text/plain": [
       "                      fixed acidity  volatile acidity  citric acid  \\\n",
       "fixed acidity              1.000000         -0.256131     0.671703   \n",
       "volatile acidity          -0.256131          1.000000    -0.552496   \n",
       "citric acid                0.671703         -0.552496     1.000000   \n",
       "residual sugar             0.114777          0.001918     0.143577   \n",
       "chlorides                  0.093705          0.061298     0.203823   \n",
       "free sulfur dioxide       -0.153791         -0.010487    -0.060885   \n",
       "total sulfur dioxide      -0.113198          0.076479     0.035506   \n",
       "density                    0.668047          0.022026     0.364947   \n",
       "pH                        -0.682978          0.234937    -0.541904   \n",
       "sulphates                  0.183006         -0.260987     0.312770   \n",
       "alcohol                   -0.061668         -0.202288     0.109903   \n",
       "quality                    0.124052         -0.390558     0.226373   \n",
       "\n",
       "                      residual sugar  chlorides  free sulfur dioxide  \\\n",
       "fixed acidity               0.114777   0.093705            -0.153791   \n",
       "volatile acidity            0.001918   0.061298            -0.010487   \n",
       "citric acid                 0.143577   0.203823            -0.060885   \n",
       "residual sugar              1.000000   0.055610             0.187310   \n",
       "chlorides                   0.055610   1.000000             0.005627   \n",
       "free sulfur dioxide         0.187310   0.005627             1.000000   \n",
       "total sulfur dioxide        0.203048   0.047402             0.668025   \n",
       "density                     0.355283   0.200632            -0.021981   \n",
       "pH                         -0.085652  -0.265026             0.070288   \n",
       "sulphates                   0.005527   0.371260             0.051606   \n",
       "alcohol                     0.042075  -0.221141            -0.069346   \n",
       "quality                     0.013732  -0.128907            -0.050554   \n",
       "\n",
       "                      total sulfur dioxide   density        pH  sulphates  \\\n",
       "fixed acidity                    -0.113198  0.668047 -0.682978   0.183006   \n",
       "volatile acidity                  0.076479  0.022026  0.234937  -0.260987   \n",
       "citric acid                       0.035506  0.364947 -0.541904   0.312770   \n",
       "residual sugar                    0.203048  0.355283 -0.085652   0.005527   \n",
       "chlorides                         0.047402  0.200632 -0.265026   0.371260   \n",
       "free sulfur dioxide               0.668025 -0.021981  0.070288   0.051606   \n",
       "total sulfur dioxide              1.000000  0.071256 -0.066507   0.042923   \n",
       "density                           0.071256  1.000000 -0.341699   0.148506   \n",
       "pH                               -0.066507 -0.341699  1.000000  -0.196648   \n",
       "sulphates                         0.042923  0.148506 -0.196648   1.000000   \n",
       "alcohol                          -0.205667 -0.496180  0.205633   0.093595   \n",
       "quality                          -0.185112 -0.174919 -0.057731   0.251397   \n",
       "\n",
       "                       alcohol   quality  \n",
       "fixed acidity        -0.061668  0.124052  \n",
       "volatile acidity     -0.202288 -0.390558  \n",
       "citric acid           0.109903  0.226373  \n",
       "residual sugar        0.042075  0.013732  \n",
       "chlorides            -0.221141 -0.128907  \n",
       "free sulfur dioxide  -0.069346 -0.050554  \n",
       "total sulfur dioxide -0.205667 -0.185112  \n",
       "density              -0.496180 -0.174919  \n",
       "pH                    0.205633 -0.057731  \n",
       "sulphates             0.093595  0.251397  \n",
       "alcohol               1.000000  0.476166  \n",
       "quality               0.476166  1.000000  "
      ]
     },
     "execution_count": 9,
     "metadata": {},
     "output_type": "execute_result"
    }
   ],
   "source": [
    "#checking correlations\n",
    "df_corr = df.corr()\n",
    "df_corr"
   ]
  },
  {
   "cell_type": "code",
   "execution_count": 10,
   "metadata": {
    "colab": {
     "base_uri": "https://localhost:8080/",
     "height": 773
    },
    "id": "VjDxJhrFS_5p",
    "outputId": "7ffdc135-6abe-4e79-d201-3c8a80dbd10f"
   },
   "outputs": [
    {
     "data": {
      "text/plain": [
       "<AxesSubplot:>"
      ]
     },
     "execution_count": 10,
     "metadata": {},
     "output_type": "execute_result"
    },
    {
     "data": {
      "image/png": "[encoded data removed]",
      "text/plain": [
       "<Figure size 1080x576 with 2 Axes>"
      ]
     },
     "metadata": {
      "needs_background": "light"
     },
     "output_type": "display_data"
    }
   ],
   "source": [
    "mask=np.array(df_corr)\n",
    "fig=plt.gcf()\n",
    "fig.set_size_inches(15,8)\n",
    "sns.heatmap(df_corr, cbar=True,square=True,annot=True)"
   ]
  },
  {
   "cell_type": "markdown",
   "metadata": {
    "id": "cYktwxqXpWC2"
   },
   "source": [
    "* No high correlation found. So we cannot choose features specifically. Better would be to take all the features for modelling."
   ]
  },
  {
   "cell_type": "code",
   "execution_count": 11,
   "metadata": {
    "id": "45X_LYBzzM1X"
   },
   "outputs": [],
   "source": [
    "#selecting Feature and target variables\n",
    "X = df.drop(columns=\"quality\", axis=1)\n",
    "y = df[\"quality\"]"
   ]
  },
  {
   "cell_type": "code",
   "execution_count": 12,
   "metadata": {
    "colab": {
     "base_uri": "https://localhost:8080/"
    },
    "id": "MvFU-Atf0FYU",
    "outputId": "ce643bcf-a9c2-40b6-b757-817f21bb6a63"
   },
   "outputs": [
    {
     "name": "stdout",
     "output_type": "stream",
     "text": [
      "(1279, 11)\n",
      "(1279,)\n"
     ]
    }
   ],
   "source": [
    "# spliting data into train and test\n",
    "from sklearn.model_selection import train_test_split\n",
    "X_train, X_test, y_train, y_test = train_test_split(X, y, test_size=0.2, random_state=42)\n",
    "\n",
    "\n",
    "print(X_train.shape)\n",
    "print(y_train.shape)"
   ]
  },
  {
   "cell_type": "markdown",
   "metadata": {
    "id": "Rx7i17JCpoY5"
   },
   "source": [
    "## Model training\n",
    "* Now we will train our model using Ordinal regression. For this, we will use Statsmodels library."
   ]
  },
  {
   "cell_type": "code",
   "execution_count": 13,
   "metadata": {},
   "outputs": [
    {
     "name": "stdout",
     "output_type": "stream",
     "text": [
      "Requirement already satisfied: statsmodels in c:\\users\\rahul-pc\\appdata\\local\\programs\\python\\python39\\lib\\site-packages (0.14.0)\n",
      "Requirement already satisfied: scipy!=1.9.2,>=1.4 in c:\\users\\rahul-pc\\appdata\\local\\programs\\python\\python39\\lib\\site-packages (from statsmodels) (1.7.3)\n",
      "Requirement already satisfied: numpy>=1.18 in c:\\users\\rahul-pc\\appdata\\local\\programs\\python\\python39\\lib\\site-packages (from statsmodels) (1.21.4)\n",
      "Requirement already satisfied: packaging>=21.3 in c:\\users\\rahul-pc\\appdata\\local\\programs\\python\\python39\\lib\\site-packages (from statsmodels) (21.3)\n",
      "Requirement already satisfied: pandas>=1.0 in c:\\users\\rahul-pc\\appdata\\local\\programs\\python\\python39\\lib\\site-packages (from statsmodels) (1.3.5)\n",
      "Requirement already satisfied: patsy>=0.5.2 in c:\\users\\rahul-pc\\appdata\\local\\programs\\python\\python39\\lib\\site-packages (from statsmodels) (0.5.3)\n",
      "Requirement already satisfied: pyparsing!=3.0.5,>=2.0.2 in c:\\users\\rahul-pc\\appdata\\local\\programs\\python\\python39\\lib\\site-packages (from packaging>=21.3->statsmodels) (3.0.6)\n",
      "Requirement already satisfied: pytz>=2017.3 in c:\\users\\rahul-pc\\appdata\\local\\programs\\python\\python39\\lib\\site-packages (from pandas>=1.0->statsmodels) (2021.1)\n",
      "Requirement already satisfied: python-dateutil>=2.7.3 in c:\\users\\rahul-pc\\appdata\\local\\programs\\python\\python39\\lib\\site-packages (from pandas>=1.0->statsmodels) (2.8.2)\n",
      "Requirement already satisfied: six in c:\\users\\rahul-pc\\appdata\\local\\programs\\python\\python39\\lib\\site-packages (from patsy>=0.5.2->statsmodels) (1.16.0)\n",
      "Note: you may need to restart the kernel to use updated packages.\n"
     ]
    },
    {
     "name": "stderr",
     "output_type": "stream",
     "text": [
      "\n",
      "[notice] A new release of pip is available: 23.0.1 -> 23.2.1\n",
      "[notice] To update, run: c:\\users\\rahul-pc\\appdata\\local\\programs\\python\\python39\\python.exe -m pip install --upgrade pip\n"
     ]
    }
   ],
   "source": [
    "pip install statsmodels"
   ]
  },
  {
   "cell_type": "code",
   "execution_count": 14,
   "metadata": {
    "colab": {
     "base_uri": "https://localhost:8080/",
     "height": 659
    },
    "id": "dn94WacNnt60",
    "outputId": "98a077f9-32df-4c8a-a9a4-294825897368"
   },
   "outputs": [
    {
     "name": "stdout",
     "output_type": "stream",
     "text": [
      "Optimization terminated successfully.\n",
      "         Current function value: 0.973499\n",
      "         Iterations: 68\n",
      "         Function evaluations: 71\n",
      "         Gradient evaluations: 71\n"
     ]
    },
    {
     "data": {
      "text/html": [
       "<table class=\"simpletable\">\n",
       "<caption>OrderedModel Results</caption>\n",
       "<tr>\n",
       "  <th>Dep. Variable:</th>          <td>quality</td>      <th>  Log-Likelihood:    </th> <td> -1245.1</td>\n",
       "</tr>\n",
       "<tr>\n",
       "  <th>Model:</th>               <td>OrderedModel</td>    <th>  AIC:               </th> <td>   2522.</td>\n",
       "</tr>\n",
       "<tr>\n",
       "  <th>Method:</th>           <td>Maximum Likelihood</td> <th>  BIC:               </th> <td>   2605.</td>\n",
       "</tr>\n",
       "<tr>\n",
       "  <th>Date:</th>              <td>Sun, 08 Oct 2023</td>  <th>                     </th>     <td> </td>   \n",
       "</tr>\n",
       "<tr>\n",
       "  <th>Time:</th>                  <td>16:00:36</td>      <th>                     </th>     <td> </td>   \n",
       "</tr>\n",
       "<tr>\n",
       "  <th>No. Observations:</th>       <td>  1279</td>       <th>                     </th>     <td> </td>   \n",
       "</tr>\n",
       "<tr>\n",
       "  <th>Df Residuals:</th>           <td>  1263</td>       <th>                     </th>     <td> </td>   \n",
       "</tr>\n",
       "<tr>\n",
       "  <th>Df Model:</th>               <td>    11</td>       <th>                     </th>     <td> </td>   \n",
       "</tr>\n",
       "</table>\n",
       "<table class=\"simpletable\">\n",
       "<tr>\n",
       "            <td></td>              <th>coef</th>     <th>std err</th>      <th>z</th>      <th>P>|z|</th>  <th>[0.025</th>    <th>0.975]</th>  \n",
       "</tr>\n",
       "<tr>\n",
       "  <th>fixed acidity</th>        <td>    0.0269</td> <td>    0.049</td> <td>    0.548</td> <td> 0.584</td> <td>   -0.069</td> <td>    0.123</td>\n",
       "</tr>\n",
       "<tr>\n",
       "  <th>volatile acidity</th>     <td>   -1.7048</td> <td>    0.241</td> <td>   -7.071</td> <td> 0.000</td> <td>   -2.177</td> <td>   -1.232</td>\n",
       "</tr>\n",
       "<tr>\n",
       "  <th>citric acid</th>          <td>   -0.2458</td> <td>    0.289</td> <td>   -0.851</td> <td> 0.395</td> <td>   -0.812</td> <td>    0.320</td>\n",
       "</tr>\n",
       "<tr>\n",
       "  <th>residual sugar</th>       <td>    0.0020</td> <td>    0.029</td> <td>    0.070</td> <td> 0.944</td> <td>   -0.054</td> <td>    0.058</td>\n",
       "</tr>\n",
       "<tr>\n",
       "  <th>chlorides</th>            <td>   -3.0911</td> <td>    0.794</td> <td>   -3.895</td> <td> 0.000</td> <td>   -4.646</td> <td>   -1.536</td>\n",
       "</tr>\n",
       "<tr>\n",
       "  <th>free sulfur dioxide</th>  <td>    0.0106</td> <td>    0.004</td> <td>    2.449</td> <td> 0.014</td> <td>    0.002</td> <td>    0.019</td>\n",
       "</tr>\n",
       "<tr>\n",
       "  <th>total sulfur dioxide</th> <td>   -0.0068</td> <td>    0.001</td> <td>   -4.691</td> <td> 0.000</td> <td>   -0.010</td> <td>   -0.004</td>\n",
       "</tr>\n",
       "<tr>\n",
       "  <th>density</th>              <td>   -1.0000</td> <td>   41.450</td> <td>   -0.024</td> <td> 0.981</td> <td>  -82.241</td> <td>   80.241</td>\n",
       "</tr>\n",
       "<tr>\n",
       "  <th>pH</th>                   <td>   -0.7187</td> <td>    0.370</td> <td>   -1.943</td> <td> 0.052</td> <td>   -1.444</td> <td>    0.006</td>\n",
       "</tr>\n",
       "<tr>\n",
       "  <th>sulphates</th>            <td>    1.4191</td> <td>    0.219</td> <td>    6.492</td> <td> 0.000</td> <td>    0.991</td> <td>    1.847</td>\n",
       "</tr>\n",
       "<tr>\n",
       "  <th>alcohol</th>              <td>    0.4876</td> <td>    0.052</td> <td>    9.353</td> <td> 0.000</td> <td>    0.385</td> <td>    0.590</td>\n",
       "</tr>\n",
       "<tr>\n",
       "  <th>3/4</th>                  <td>   -1.4508</td> <td>   40.607</td> <td>   -0.036</td> <td> 0.971</td> <td>  -81.039</td> <td>   78.138</td>\n",
       "</tr>\n",
       "<tr>\n",
       "  <th>4/5</th>                  <td>   -0.2410</td> <td>    0.157</td> <td>   -1.531</td> <td> 0.126</td> <td>   -0.550</td> <td>    0.068</td>\n",
       "</tr>\n",
       "<tr>\n",
       "  <th>5/6</th>                  <td>    0.6974</td> <td>    0.038</td> <td>   18.368</td> <td> 0.000</td> <td>    0.623</td> <td>    0.772</td>\n",
       "</tr>\n",
       "<tr>\n",
       "  <th>6/7</th>                  <td>    0.4718</td> <td>    0.039</td> <td>   12.040</td> <td> 0.000</td> <td>    0.395</td> <td>    0.549</td>\n",
       "</tr>\n",
       "<tr>\n",
       "  <th>7/8</th>                  <td>    0.4440</td> <td>    0.080</td> <td>    5.561</td> <td> 0.000</td> <td>    0.288</td> <td>    0.601</td>\n",
       "</tr>\n",
       "</table>"
      ],
      "text/latex": [
       "\\begin{center}\n",
       "\\begin{tabular}{lclc}\n",
       "\\toprule\n",
       "\\textbf{Dep. Variable:}       &      quality       & \\textbf{  Log-Likelihood:    } &   -1245.1   \\\\\n",
       "\\textbf{Model:}               &    OrderedModel    & \\textbf{  AIC:               } &     2522.   \\\\\n",
       "\\textbf{Method:}              & Maximum Likelihood & \\textbf{  BIC:               } &     2605.   \\\\\n",
       "\\textbf{Date:}                &  Sun, 08 Oct 2023  & \\textbf{                     } &             \\\\\n",
       "\\textbf{Time:}                &      16:00:36      & \\textbf{                     } &             \\\\\n",
       "\\textbf{No. Observations:}    &         1279       & \\textbf{                     } &             \\\\\n",
       "\\textbf{Df Residuals:}        &         1263       & \\textbf{                     } &             \\\\\n",
       "\\textbf{Df Model:}            &           11       & \\textbf{                     } &             \\\\\n",
       "\\bottomrule\n",
       "\\end{tabular}\n",
       "\\begin{tabular}{lcccccc}\n",
       "                              & \\textbf{coef} & \\textbf{std err} & \\textbf{z} & \\textbf{P$> |$z$|$} & \\textbf{[0.025} & \\textbf{0.975]}  \\\\\n",
       "\\midrule\n",
       "\\textbf{fixed acidity}        &       0.0269  &        0.049     &     0.548  &         0.584        &       -0.069    &        0.123     \\\\\n",
       "\\textbf{volatile acidity}     &      -1.7048  &        0.241     &    -7.071  &         0.000        &       -2.177    &       -1.232     \\\\\n",
       "\\textbf{citric acid}          &      -0.2458  &        0.289     &    -0.851  &         0.395        &       -0.812    &        0.320     \\\\\n",
       "\\textbf{residual sugar}       &       0.0020  &        0.029     &     0.070  &         0.944        &       -0.054    &        0.058     \\\\\n",
       "\\textbf{chlorides}            &      -3.0911  &        0.794     &    -3.895  &         0.000        &       -4.646    &       -1.536     \\\\\n",
       "\\textbf{free sulfur dioxide}  &       0.0106  &        0.004     &     2.449  &         0.014        &        0.002    &        0.019     \\\\\n",
       "\\textbf{total sulfur dioxide} &      -0.0068  &        0.001     &    -4.691  &         0.000        &       -0.010    &       -0.004     \\\\\n",
       "\\textbf{density}              &      -1.0000  &       41.450     &    -0.024  &         0.981        &      -82.241    &       80.241     \\\\\n",
       "\\textbf{pH}                   &      -0.7187  &        0.370     &    -1.943  &         0.052        &       -1.444    &        0.006     \\\\\n",
       "\\textbf{sulphates}            &       1.4191  &        0.219     &     6.492  &         0.000        &        0.991    &        1.847     \\\\\n",
       "\\textbf{alcohol}              &       0.4876  &        0.052     &     9.353  &         0.000        &        0.385    &        0.590     \\\\\n",
       "\\textbf{3/4}                  &      -1.4508  &       40.607     &    -0.036  &         0.971        &      -81.039    &       78.138     \\\\\n",
       "\\textbf{4/5}                  &      -0.2410  &        0.157     &    -1.531  &         0.126        &       -0.550    &        0.068     \\\\\n",
       "\\textbf{5/6}                  &       0.6974  &        0.038     &    18.368  &         0.000        &        0.623    &        0.772     \\\\\n",
       "\\textbf{6/7}                  &       0.4718  &        0.039     &    12.040  &         0.000        &        0.395    &        0.549     \\\\\n",
       "\\textbf{7/8}                  &       0.4440  &        0.080     &     5.561  &         0.000        &        0.288    &        0.601     \\\\\n",
       "\\bottomrule\n",
       "\\end{tabular}\n",
       "%\\caption{OrderedModel Results}\n",
       "\\end{center}"
      ],
      "text/plain": [
       "<class 'statsmodels.iolib.summary.Summary'>\n",
       "\"\"\"\n",
       "                             OrderedModel Results                             \n",
       "==============================================================================\n",
       "Dep. Variable:                quality   Log-Likelihood:                -1245.1\n",
       "Model:                   OrderedModel   AIC:                             2522.\n",
       "Method:            Maximum Likelihood   BIC:                             2605.\n",
       "Date:                Sun, 08 Oct 2023                                         \n",
       "Time:                        16:00:36                                         \n",
       "No. Observations:                1279                                         \n",
       "Df Residuals:                    1263                                         \n",
       "Df Model:                          11                                         \n",
       "========================================================================================\n",
       "                           coef    std err          z      P>|z|      [0.025      0.975]\n",
       "----------------------------------------------------------------------------------------\n",
       "fixed acidity            0.0269      0.049      0.548      0.584      -0.069       0.123\n",
       "volatile acidity        -1.7048      0.241     -7.071      0.000      -2.177      -1.232\n",
       "citric acid             -0.2458      0.289     -0.851      0.395      -0.812       0.320\n",
       "residual sugar           0.0020      0.029      0.070      0.944      -0.054       0.058\n",
       "chlorides               -3.0911      0.794     -3.895      0.000      -4.646      -1.536\n",
       "free sulfur dioxide      0.0106      0.004      2.449      0.014       0.002       0.019\n",
       "total sulfur dioxide    -0.0068      0.001     -4.691      0.000      -0.010      -0.004\n",
       "density                 -1.0000     41.450     -0.024      0.981     -82.241      80.241\n",
       "pH                      -0.7187      0.370     -1.943      0.052      -1.444       0.006\n",
       "sulphates                1.4191      0.219      6.492      0.000       0.991       1.847\n",
       "alcohol                  0.4876      0.052      9.353      0.000       0.385       0.590\n",
       "3/4                     -1.4508     40.607     -0.036      0.971     -81.039      78.138\n",
       "4/5                     -0.2410      0.157     -1.531      0.126      -0.550       0.068\n",
       "5/6                      0.6974      0.038     18.368      0.000       0.623       0.772\n",
       "6/7                      0.4718      0.039     12.040      0.000       0.395       0.549\n",
       "7/8                      0.4440      0.080      5.561      0.000       0.288       0.601\n",
       "========================================================================================\n",
       "\"\"\""
      ]
     },
     "execution_count": 14,
     "metadata": {},
     "output_type": "execute_result"
    }
   ],
   "source": [
    "#ordinal regression model\n",
    "from statsmodels.miscmodels.ordinal_model import OrderedModel\n",
    "\n",
    "mod_prob = OrderedModel(y_train,X_train,distr='probit')\n",
    "\n",
    "res_prob = mod_prob.fit(method='bfgs')\n",
    "res_prob.summary()"
   ]
  },
  {
   "cell_type": "code",
   "execution_count": 15,
   "metadata": {
    "id": "_jSRgYcx3CFN"
   },
   "outputs": [],
   "source": [
    "#prediction from ordinal regression\n",
    "y_pred_ordinal = res_prob.model.predict(res_prob.params, X_test)\n",
    "\n",
    "#as ordinal regression gives probability of each class, we need to find class of max_prob\n",
    "#below code give the correct predicted value.\n",
    "y_pred_ordinal_val = [y_pred_ordinal.argmax(1) + 3]\n",
    "y_pred_ordinal_val = np.array(y_pred_ordinal_val).reshape((-1,))"
   ]
  },
  {
   "cell_type": "code",
   "execution_count": 16,
   "metadata": {
    "colab": {
     "base_uri": "https://localhost:8080/",
     "height": 74
    },
    "id": "QLWNoU9bqMf9",
    "outputId": "19a67c72-58c2-4738-d769-9c04e4666f50"
   },
   "outputs": [
    {
     "data": {
      "text/plain": [
       "LinearRegression()"
      ]
     },
     "execution_count": 16,
     "metadata": {},
     "output_type": "execute_result"
    }
   ],
   "source": [
    "#Linear regression model\n",
    "from sklearn.linear_model import LinearRegression\n",
    "\n",
    "linear = LinearRegression()\n",
    "linear.fit(X_train, y_train)"
   ]
  },
  {
   "cell_type": "code",
   "execution_count": 17,
   "metadata": {
    "id": "K7Rdy7hX9qDr"
   },
   "outputs": [],
   "source": [
    "#prediction from linear regression\n",
    "y_pred_linear = linear.predict(X_test)\n",
    "\n",
    "#since these predictions are continuous values,we need to round it to nearest integer\n",
    "y_pred_linear_val = np.round(y_pred_linear)"
   ]
  },
  {
   "cell_type": "markdown",
   "metadata": {
    "id": "vudEaHEq4btu"
   },
   "source": [
    "### Model evaluation"
   ]
  },
  {
   "cell_type": "code",
   "execution_count": 18,
   "metadata": {
    "colab": {
     "base_uri": "https://localhost:8080/"
    },
    "id": "LQKqdY424Lq4",
    "outputId": "14acf820-744f-4e08-fc12-1614de6d4169"
   },
   "outputs": [
    {
     "name": "stdout",
     "output_type": "stream",
     "text": [
      "Accuracy of Linear model:  0.571875\n",
      "Accuracy of ordinal model:  0.565625\n",
      "Accuracy of Linear model:  0.23933612171619553\n",
      "Accuracy of ordinal model:  0.23619613247272822\n"
     ]
    }
   ],
   "source": [
    "from sklearn.metrics import  accuracy_score, f1_score\n",
    "\n",
    "print(\"Accuracy of Linear model: \",accuracy_score(y_test, y_pred_linear_val))\n",
    "print(\"Accuracy of ordinal model: \",accuracy_score(y_test, y_pred_ordinal_val))\n",
    "\n",
    "print(\"Accuracy of Linear model: \",f1_score(y_test, y_pred_linear_val, average=\"macro\"))\n",
    "print(\"Accuracy of ordinal model: \",f1_score(y_test, y_pred_ordinal_val,average=\"macro\"))\n"
   ]
  },
  {
   "cell_type": "code",
   "execution_count": null,
   "metadata": {},
   "outputs": [],
   "source": []
  }
 ],
 "metadata": {
  "colab": {
   "provenance": []
  },
  "kernelspec": {
   "display_name": "Python 3 (ipykernel)",
   "language": "python",
   "name": "python3"
  },
  "language_info": {
   "codemirror_mode": {
    "name": "ipython",
    "version": 3
   },
   "file_extension": ".py",
   "mimetype": "text/x-python",
   "name": "python",
   "nbconvert_exporter": "python",
   "pygments_lexer": "ipython3",
   "version": "3.9.5"
  }
 },
 "nbformat": 4,
 "nbformat_minor": 1
}
