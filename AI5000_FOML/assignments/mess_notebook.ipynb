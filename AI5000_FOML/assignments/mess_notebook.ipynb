{
 "cells": [
  {
   "cell_type": "markdown",
   "metadata": {
    "id": "okLKxXcea5ho"
   },
   "source": [
    "### Part(a)"
   ]
  },
  {
   "cell_type": "markdown",
   "metadata": {
    "id": "OxrSXIi19_V1"
   },
   "source": [
    "Importing Modules and reading Input file"
   ]
  },
  {
   "cell_type": "code",
   "execution_count": 13,
   "metadata": {
    "id": "AeQdOPgo98IR"
   },
   "outputs": [],
   "source": [
    "import numpy as np\n",
    "import pandas as pd"
   ]
  },
  {
   "cell_type": "code",
   "execution_count": 14,
   "metadata": {
    "id": "Xc_UEq84-TPZ"
   },
   "outputs": [],
   "source": [
    "data = pd.read_csv(\"mess_data.csv\")"
   ]
  },
  {
   "cell_type": "code",
   "execution_count": 15,
   "metadata": {
    "colab": {
     "base_uri": "https://localhost:8080/",
     "height": 206
    },
    "id": "8EZy22M1-zJY",
    "outputId": "bf99171c-4a68-4846-9f92-a79d1649adc1"
   },
   "outputs": [
    {
     "data": {
      "text/html": [
       "<div>\n",
       "<style scoped>\n",
       "    .dataframe tbody tr th:only-of-type {\n",
       "        vertical-align: middle;\n",
       "    }\n",
       "\n",
       "    .dataframe tbody tr th {\n",
       "        vertical-align: top;\n",
       "    }\n",
       "\n",
       "    .dataframe thead th {\n",
       "        text-align: right;\n",
       "    }\n",
       "</style>\n",
       "<table border=\"1\" class=\"dataframe\">\n",
       "  <thead>\n",
       "    <tr style=\"text-align: right;\">\n",
       "      <th></th>\n",
       "      <th>Day</th>\n",
       "      <th>Holiday</th>\n",
       "      <th>Meal_Type</th>\n",
       "      <th>Time_In</th>\n",
       "      <th>Time_Out</th>\n",
       "      <th>Time_Taken</th>\n",
       "    </tr>\n",
       "  </thead>\n",
       "  <tbody>\n",
       "    <tr>\n",
       "      <th>0</th>\n",
       "      <td>Mon</td>\n",
       "      <td>0</td>\n",
       "      <td>Breakfast</td>\n",
       "      <td>930.0</td>\n",
       "      <td>951.0</td>\n",
       "      <td>21.0</td>\n",
       "    </tr>\n",
       "    <tr>\n",
       "      <th>1</th>\n",
       "      <td>Mon</td>\n",
       "      <td>0</td>\n",
       "      <td>Lunch</td>\n",
       "      <td>1258.0</td>\n",
       "      <td>1325.0</td>\n",
       "      <td>27.0</td>\n",
       "    </tr>\n",
       "    <tr>\n",
       "      <th>2</th>\n",
       "      <td>Mon</td>\n",
       "      <td>0</td>\n",
       "      <td>Snack</td>\n",
       "      <td>1721.0</td>\n",
       "      <td>1735.0</td>\n",
       "      <td>14.0</td>\n",
       "    </tr>\n",
       "    <tr>\n",
       "      <th>3</th>\n",
       "      <td>Mon</td>\n",
       "      <td>0</td>\n",
       "      <td>Dinner</td>\n",
       "      <td>2126.0</td>\n",
       "      <td>2145.0</td>\n",
       "      <td>19.0</td>\n",
       "    </tr>\n",
       "    <tr>\n",
       "      <th>4</th>\n",
       "      <td>Tue</td>\n",
       "      <td>0</td>\n",
       "      <td>Breakfast</td>\n",
       "      <td>844.0</td>\n",
       "      <td>859.0</td>\n",
       "      <td>15.0</td>\n",
       "    </tr>\n",
       "  </tbody>\n",
       "</table>\n",
       "</div>"
      ],
      "text/plain": [
       "   Day  Holiday  Meal_Type  Time_In  Time_Out  Time_Taken\n",
       "0  Mon        0  Breakfast    930.0     951.0        21.0\n",
       "1  Mon        0      Lunch   1258.0    1325.0        27.0\n",
       "2  Mon        0      Snack   1721.0    1735.0        14.0\n",
       "3  Mon        0     Dinner   2126.0    2145.0        19.0\n",
       "4  Tue        0  Breakfast    844.0     859.0        15.0"
      ]
     },
     "execution_count": 15,
     "metadata": {},
     "output_type": "execute_result"
    }
   ],
   "source": [
    "data.head()"
   ]
  },
  {
   "cell_type": "markdown",
   "metadata": {
    "id": "ZUF-hU3a_KXi"
   },
   "source": [
    "### Exploratory Data Analysis"
   ]
  },
  {
   "cell_type": "markdown",
   "metadata": {
    "id": "B8OadNuWEQMJ"
   },
   "source": [
    "* Below code gives a quick summary of how our data look like along with some\n",
    "statistical parameters like mean, deviation, min, max and percentile of each columns.\n",
    "* Input data has $56$ Rows and $6$ columns with features like **Day, Holiday, Meal_type, Time_in, Time_out and Time_Taken** of each meal.\n",
    "* Day and Meal_type column are not numerical."
   ]
  },
  {
   "cell_type": "code",
   "execution_count": 16,
   "metadata": {
    "colab": {
     "base_uri": "https://localhost:8080/",
     "height": 300
    },
    "id": "5aHkqojOEAsc",
    "outputId": "84e18570-4f9e-430b-c02a-81bb188432eb"
   },
   "outputs": [
    {
     "data": {
      "text/html": [
       "<div>\n",
       "<style scoped>\n",
       "    .dataframe tbody tr th:only-of-type {\n",
       "        vertical-align: middle;\n",
       "    }\n",
       "\n",
       "    .dataframe tbody tr th {\n",
       "        vertical-align: top;\n",
       "    }\n",
       "\n",
       "    .dataframe thead th {\n",
       "        text-align: right;\n",
       "    }\n",
       "</style>\n",
       "<table border=\"1\" class=\"dataframe\">\n",
       "  <thead>\n",
       "    <tr style=\"text-align: right;\">\n",
       "      <th></th>\n",
       "      <th>Holiday</th>\n",
       "      <th>Time_In</th>\n",
       "      <th>Time_Out</th>\n",
       "      <th>Time_Taken</th>\n",
       "    </tr>\n",
       "  </thead>\n",
       "  <tbody>\n",
       "    <tr>\n",
       "      <th>count</th>\n",
       "      <td>56.000000</td>\n",
       "      <td>48.000000</td>\n",
       "      <td>48.000000</td>\n",
       "      <td>48.000000</td>\n",
       "    </tr>\n",
       "    <tr>\n",
       "      <th>mean</th>\n",
       "      <td>0.285714</td>\n",
       "      <td>1485.395833</td>\n",
       "      <td>1525.583333</td>\n",
       "      <td>22.479167</td>\n",
       "    </tr>\n",
       "    <tr>\n",
       "      <th>std</th>\n",
       "      <td>0.455842</td>\n",
       "      <td>461.916716</td>\n",
       "      <td>459.932596</td>\n",
       "      <td>5.531302</td>\n",
       "    </tr>\n",
       "    <tr>\n",
       "      <th>min</th>\n",
       "      <td>0.000000</td>\n",
       "      <td>831.000000</td>\n",
       "      <td>848.000000</td>\n",
       "      <td>12.000000</td>\n",
       "    </tr>\n",
       "    <tr>\n",
       "      <th>25%</th>\n",
       "      <td>0.000000</td>\n",
       "      <td>951.000000</td>\n",
       "      <td>1012.750000</td>\n",
       "      <td>18.750000</td>\n",
       "    </tr>\n",
       "    <tr>\n",
       "      <th>50%</th>\n",
       "      <td>0.000000</td>\n",
       "      <td>1351.500000</td>\n",
       "      <td>1416.500000</td>\n",
       "      <td>22.000000</td>\n",
       "    </tr>\n",
       "    <tr>\n",
       "      <th>75%</th>\n",
       "      <td>1.000000</td>\n",
       "      <td>2019.750000</td>\n",
       "      <td>2051.250000</td>\n",
       "      <td>26.000000</td>\n",
       "    </tr>\n",
       "    <tr>\n",
       "      <th>max</th>\n",
       "      <td>1.000000</td>\n",
       "      <td>2126.000000</td>\n",
       "      <td>2145.000000</td>\n",
       "      <td>35.000000</td>\n",
       "    </tr>\n",
       "  </tbody>\n",
       "</table>\n",
       "</div>"
      ],
      "text/plain": [
       "         Holiday      Time_In     Time_Out  Time_Taken\n",
       "count  56.000000    48.000000    48.000000   48.000000\n",
       "mean    0.285714  1485.395833  1525.583333   22.479167\n",
       "std     0.455842   461.916716   459.932596    5.531302\n",
       "min     0.000000   831.000000   848.000000   12.000000\n",
       "25%     0.000000   951.000000  1012.750000   18.750000\n",
       "50%     0.000000  1351.500000  1416.500000   22.000000\n",
       "75%     1.000000  2019.750000  2051.250000   26.000000\n",
       "max     1.000000  2126.000000  2145.000000   35.000000"
      ]
     },
     "execution_count": 16,
     "metadata": {},
     "output_type": "execute_result"
    }
   ],
   "source": [
    "data.describe()"
   ]
  },
  {
   "cell_type": "code",
   "execution_count": 17,
   "metadata": {
    "colab": {
     "base_uri": "https://localhost:8080/"
    },
    "id": "8olFxTJmEuCp",
    "outputId": "8144b7e3-5cf4-45bb-c392-9523a135ed12"
   },
   "outputs": [
    {
     "data": {
      "text/plain": [
       "(56, 6)"
      ]
     },
     "execution_count": 17,
     "metadata": {},
     "output_type": "execute_result"
    }
   ],
   "source": [
    "data.shape"
   ]
  },
  {
   "cell_type": "code",
   "execution_count": 18,
   "metadata": {
    "colab": {
     "base_uri": "https://localhost:8080/"
    },
    "id": "W-HLjV1c-1eX",
    "outputId": "5434c97b-f6b8-4ae8-c972-f075c6275fe6"
   },
   "outputs": [
    {
     "data": {
      "text/plain": [
       "Index(['Day', 'Holiday', 'Meal_Type', 'Time_In', 'Time_Out', 'Time_Taken'], dtype='object')"
      ]
     },
     "execution_count": 18,
     "metadata": {},
     "output_type": "execute_result"
    }
   ],
   "source": [
    "data.columns"
   ]
  },
  {
   "cell_type": "markdown",
   "metadata": {
    "id": "GeauDGJMGpky"
   },
   "source": [
    "### Checking missing values"
   ]
  },
  {
   "cell_type": "code",
   "execution_count": 19,
   "metadata": {
    "colab": {
     "base_uri": "https://localhost:8080/"
    },
    "id": "GFrre6jU_Eqt",
    "outputId": "ae807664-9e4b-4b08-ad65-b50b06e33e27"
   },
   "outputs": [
    {
     "data": {
      "text/plain": [
       "Day           0\n",
       "Holiday       0\n",
       "Meal_Type     0\n",
       "Time_In       8\n",
       "Time_Out      8\n",
       "Time_Taken    8\n",
       "dtype: int64"
      ]
     },
     "execution_count": 19,
     "metadata": {},
     "output_type": "execute_result"
    }
   ],
   "source": [
    "data.isnull().sum()"
   ]
  },
  {
   "cell_type": "markdown",
   "metadata": {
    "id": "hXl3msUJDV3l"
   },
   "source": [
    "* As you can see, there are few missing values in the input data. We can not replace it with mean or any statistical parameters because timings are bounded to some range.\n",
    "* Better choice would be to drop these rows, since number of nan values are less.\n"
   ]
  },
  {
   "cell_type": "code",
   "execution_count": 20,
   "metadata": {
    "colab": {
     "base_uri": "https://localhost:8080/"
    },
    "id": "Te1tzI66IRJp",
    "outputId": "034bea8f-4858-4f0d-9c25-b09c3a77c6a3"
   },
   "outputs": [
    {
     "data": {
      "text/plain": [
       "Day           0\n",
       "Holiday       0\n",
       "Meal_Type     0\n",
       "Time_In       0\n",
       "Time_Out      0\n",
       "Time_Taken    0\n",
       "dtype: int64"
      ]
     },
     "execution_count": 20,
     "metadata": {},
     "output_type": "execute_result"
    }
   ],
   "source": [
    "#dropping rows with nan values\n",
    "data = data.dropna()\n",
    "data.isnull().sum()"
   ]
  },
  {
   "cell_type": "markdown",
   "metadata": {
    "id": "9nvdOG-rLfR4"
   },
   "source": [
    "### Plotting some graph to see relation between features"
   ]
  },
  {
   "cell_type": "code",
   "execution_count": 21,
   "metadata": {
    "colab": {
     "base_uri": "https://localhost:8080/",
     "height": 425
    },
    "id": "kC-uVtEajMqH",
    "outputId": "802e52e6-9de6-425d-d28a-2173c22cbc56"
   },
   "outputs": [
    {
     "data": {
      "text/html": [
       "<div>\n",
       "<style scoped>\n",
       "    .dataframe tbody tr th:only-of-type {\n",
       "        vertical-align: middle;\n",
       "    }\n",
       "\n",
       "    .dataframe tbody tr th {\n",
       "        vertical-align: top;\n",
       "    }\n",
       "\n",
       "    .dataframe thead th {\n",
       "        text-align: right;\n",
       "    }\n",
       "</style>\n",
       "<table border=\"1\" class=\"dataframe\">\n",
       "  <thead>\n",
       "    <tr style=\"text-align: right;\">\n",
       "      <th></th>\n",
       "      <th>Day</th>\n",
       "      <th>Holiday</th>\n",
       "      <th>Meal_Type</th>\n",
       "      <th>Time_In</th>\n",
       "      <th>Time_Out</th>\n",
       "      <th>Time_Taken</th>\n",
       "    </tr>\n",
       "  </thead>\n",
       "  <tbody>\n",
       "    <tr>\n",
       "      <th>0</th>\n",
       "      <td>Mon</td>\n",
       "      <td>0</td>\n",
       "      <td>Breakfast</td>\n",
       "      <td>930.0</td>\n",
       "      <td>951.0</td>\n",
       "      <td>21.0</td>\n",
       "    </tr>\n",
       "    <tr>\n",
       "      <th>4</th>\n",
       "      <td>Tue</td>\n",
       "      <td>0</td>\n",
       "      <td>Breakfast</td>\n",
       "      <td>844.0</td>\n",
       "      <td>859.0</td>\n",
       "      <td>15.0</td>\n",
       "    </tr>\n",
       "    <tr>\n",
       "      <th>8</th>\n",
       "      <td>Wed</td>\n",
       "      <td>0</td>\n",
       "      <td>Breakfast</td>\n",
       "      <td>840.0</td>\n",
       "      <td>859.0</td>\n",
       "      <td>19.0</td>\n",
       "    </tr>\n",
       "    <tr>\n",
       "      <th>12</th>\n",
       "      <td>Thu</td>\n",
       "      <td>0</td>\n",
       "      <td>Breakfast</td>\n",
       "      <td>831.0</td>\n",
       "      <td>848.0</td>\n",
       "      <td>17.0</td>\n",
       "    </tr>\n",
       "    <tr>\n",
       "      <th>16</th>\n",
       "      <td>Fri</td>\n",
       "      <td>0</td>\n",
       "      <td>Breakfast</td>\n",
       "      <td>913.0</td>\n",
       "      <td>931.0</td>\n",
       "      <td>18.0</td>\n",
       "    </tr>\n",
       "    <tr>\n",
       "      <th>20</th>\n",
       "      <td>Sat</td>\n",
       "      <td>1</td>\n",
       "      <td>Breakfast</td>\n",
       "      <td>938.0</td>\n",
       "      <td>955.0</td>\n",
       "      <td>17.0</td>\n",
       "    </tr>\n",
       "    <tr>\n",
       "      <th>28</th>\n",
       "      <td>Mon</td>\n",
       "      <td>0</td>\n",
       "      <td>Breakfast</td>\n",
       "      <td>940.0</td>\n",
       "      <td>1002.0</td>\n",
       "      <td>22.0</td>\n",
       "    </tr>\n",
       "    <tr>\n",
       "      <th>32</th>\n",
       "      <td>Tue</td>\n",
       "      <td>0</td>\n",
       "      <td>Breakfast</td>\n",
       "      <td>948.0</td>\n",
       "      <td>1013.0</td>\n",
       "      <td>25.0</td>\n",
       "    </tr>\n",
       "    <tr>\n",
       "      <th>40</th>\n",
       "      <td>Thu</td>\n",
       "      <td>0</td>\n",
       "      <td>Breakfast</td>\n",
       "      <td>947.0</td>\n",
       "      <td>1012.0</td>\n",
       "      <td>25.0</td>\n",
       "    </tr>\n",
       "    <tr>\n",
       "      <th>44</th>\n",
       "      <td>Fri</td>\n",
       "      <td>0</td>\n",
       "      <td>Breakfast</td>\n",
       "      <td>843.0</td>\n",
       "      <td>902.0</td>\n",
       "      <td>19.0</td>\n",
       "    </tr>\n",
       "    <tr>\n",
       "      <th>48</th>\n",
       "      <td>Sat</td>\n",
       "      <td>1</td>\n",
       "      <td>Breakfast</td>\n",
       "      <td>952.0</td>\n",
       "      <td>1008.0</td>\n",
       "      <td>16.0</td>\n",
       "    </tr>\n",
       "    <tr>\n",
       "      <th>52</th>\n",
       "      <td>Sun</td>\n",
       "      <td>1</td>\n",
       "      <td>Breakfast</td>\n",
       "      <td>930.0</td>\n",
       "      <td>952.0</td>\n",
       "      <td>22.0</td>\n",
       "    </tr>\n",
       "  </tbody>\n",
       "</table>\n",
       "</div>"
      ],
      "text/plain": [
       "    Day  Holiday  Meal_Type  Time_In  Time_Out  Time_Taken\n",
       "0   Mon        0  Breakfast    930.0     951.0        21.0\n",
       "4   Tue        0  Breakfast    844.0     859.0        15.0\n",
       "8   Wed        0  Breakfast    840.0     859.0        19.0\n",
       "12  Thu        0  Breakfast    831.0     848.0        17.0\n",
       "16  Fri        0  Breakfast    913.0     931.0        18.0\n",
       "20  Sat        1  Breakfast    938.0     955.0        17.0\n",
       "28  Mon        0  Breakfast    940.0    1002.0        22.0\n",
       "32  Tue        0  Breakfast    948.0    1013.0        25.0\n",
       "40  Thu        0  Breakfast    947.0    1012.0        25.0\n",
       "44  Fri        0  Breakfast    843.0     902.0        19.0\n",
       "48  Sat        1  Breakfast    952.0    1008.0        16.0\n",
       "52  Sun        1  Breakfast    930.0     952.0        22.0"
      ]
     },
     "execution_count": 21,
     "metadata": {},
     "output_type": "execute_result"
    }
   ],
   "source": [
    "y_breakfast = data.loc[data[\"Meal_Type\"]==\"Breakfast\"]\n",
    "y_breakfast"
   ]
  },
  {
   "cell_type": "code",
   "execution_count": 22,
   "metadata": {
    "colab": {
     "base_uri": "https://localhost:8080/",
     "height": 472
    },
    "id": "SzvlFT-cOyAO",
    "outputId": "db1ea89e-7a35-456e-891a-c96680bfeb65"
   },
   "outputs": [
    {
     "data": {
      "image/png": "[encoded data removed]",
      "text/plain": [
       "<Figure size 432x288 with 1 Axes>"
      ]
     },
     "metadata": {
      "needs_background": "light"
     },
     "output_type": "display_data"
    }
   ],
   "source": [
    "import matplotlib.pyplot as plt\n",
    "import numpy as np\n",
    "plt.ylim(0, 50)\n",
    "\n",
    "# seperating dataframes according to Meal types\n",
    "df_breakfast = data.loc[data[\"Meal_Type\"]==\"Breakfast\"]\n",
    "df_lunch = data.loc[data[\"Meal_Type\"]==\"Lunch\"]\n",
    "df_snack = data.loc[data[\"Meal_Type\"]==\"Snack\"]\n",
    "df_dinner = data.loc[data[\"Meal_Type\"]==\"Dinner\"]\n",
    "\n",
    "# Create a scatter plot for each dataset with different y-labels\n",
    "plt.scatter(df_breakfast[\"Day\"], df_breakfast[\"Time_Taken\"], label='Breakfast', marker='o', color='blue', alpha=0.7)\n",
    "plt.scatter(df_lunch[\"Day\"], df_lunch['Time_Taken'], label='Lunch', marker='s', color='green', alpha=0.7)\n",
    "plt.scatter(df_snack[\"Day\"], df_snack['Time_Taken'], label='Snack', marker='^', color='red', alpha=0.7)\n",
    "plt.scatter(df_dinner[\"Day\"], df_dinner['Time_Taken'], label='Dinner', marker='*', color='black', alpha=0.7)\n",
    "\n",
    "# Add labels and a legend\n",
    "plt.xlabel('Week Day')\n",
    "plt.ylabel('Time Taken (mins)')\n",
    "plt.title('Scatter Plot for all Meal Types')\n",
    "plt.legend()\n",
    "\n",
    "# Show the plot\n",
    "plt.show()\n"
   ]
  },
  {
   "cell_type": "code",
   "execution_count": 23,
   "metadata": {
    "colab": {
     "base_uri": "https://localhost:8080/",
     "height": 607
    },
    "id": "N3JqvkiOVVTW",
    "outputId": "0b098870-b2ec-4a8f-8705-2c097fe6d609"
   },
   "outputs": [
    {
     "data": {
      "image/png": "[encoded data removed]",
      "text/plain": [
       "<Figure size 576x432 with 4 Axes>"
      ]
     },
     "metadata": {
      "needs_background": "light"
     },
     "output_type": "display_data"
    }
   ],
   "source": [
    "import matplotlib.pyplot as plt\n",
    "\n",
    "# Create a figure and multiple subplots\n",
    "fig, axes = plt.subplots(nrows=2, ncols=2, figsize=(8, 6))  # Create a 2x2 grid of subplots\n",
    "\n",
    "# Now you can plot in each subplot and set different y-axis limits\n",
    "axes[0, 0].scatter(df_breakfast[\"Day\"], df_breakfast[\"Time_Taken\"], label='Breakfast', marker='o', color='blue', alpha=0.7)\n",
    "axes[0, 0].set_ylim(0, 40)\n",
    "\n",
    "axes[0, 1].scatter(df_lunch[\"Day\"], df_lunch['Time_Taken'], label='Lunch', marker='s', color='green', alpha=0.7)\n",
    "axes[0, 1].set_ylim(0, 40)\n",
    "\n",
    "axes[1, 0].scatter(df_snack[\"Day\"], df_snack['Time_Taken'], label='Snack', marker='^', color='red', alpha=0.7)\n",
    "axes[1, 0].set_ylim(0, 40)\n",
    "\n",
    "axes[1, 1].scatter(df_dinner[\"Day\"], df_dinner['Time_Taken'], label='Dinner', marker='*', color='black', alpha=0.7)\n",
    "axes[1, 1].set_ylim(0, 40)\n",
    "\n",
    "axes[0, 0].set_title('Breakfast')\n",
    "axes[0, 1].set_title('Lunch')\n",
    "axes[1, 0].set_title('Snack')\n",
    "axes[1, 1].set_title('Dinner')\n",
    "\n",
    "plt.tight_layout()\n",
    "\n",
    "plt.show()\n"
   ]
  },
  {
   "cell_type": "markdown",
   "metadata": {
    "id": "gcbw5EdfscP-"
   },
   "source": [
    "##Part(b)"
   ]
  },
  {
   "cell_type": "markdown",
   "metadata": {
    "id": "aDrT0uzcq5jG"
   },
   "source": [
    "* Since our data has categorical variable like Day and Meal_Type and target values are counts. For this data, linear regression is not a good model. Since we have to use Maximum Likelihood estimation **Poisson Regression** will work well this data.\n",
    "* We will use _**Poisson Regression**_ for this problem."
   ]
  },
  {
   "cell_type": "code",
   "execution_count": 24,
   "metadata": {
    "colab": {
     "base_uri": "https://localhost:8080/",
     "height": 226
    },
    "id": "a4kTja6uJP8Y",
    "outputId": "1b806eb9-7c23-49d7-d8cb-b6ce01bceb91"
   },
   "outputs": [
    {
     "data": {
      "text/html": [
       "<div>\n",
       "<style scoped>\n",
       "    .dataframe tbody tr th:only-of-type {\n",
       "        vertical-align: middle;\n",
       "    }\n",
       "\n",
       "    .dataframe tbody tr th {\n",
       "        vertical-align: top;\n",
       "    }\n",
       "\n",
       "    .dataframe thead th {\n",
       "        text-align: right;\n",
       "    }\n",
       "</style>\n",
       "<table border=\"1\" class=\"dataframe\">\n",
       "  <thead>\n",
       "    <tr style=\"text-align: right;\">\n",
       "      <th></th>\n",
       "      <th>Holiday</th>\n",
       "      <th>Time_In</th>\n",
       "      <th>Time_Out</th>\n",
       "      <th>Time_Taken</th>\n",
       "      <th>Day_Fri</th>\n",
       "      <th>Day_Mon</th>\n",
       "      <th>Day_Sat</th>\n",
       "      <th>Day_Sun</th>\n",
       "      <th>Day_Thu</th>\n",
       "      <th>Day_Tue</th>\n",
       "      <th>Day_Wed</th>\n",
       "      <th>Meal_Type_Breakfast</th>\n",
       "      <th>Meal_Type_Dinner</th>\n",
       "      <th>Meal_Type_Lunch</th>\n",
       "      <th>Meal_Type_Snack</th>\n",
       "    </tr>\n",
       "  </thead>\n",
       "  <tbody>\n",
       "    <tr>\n",
       "      <th>0</th>\n",
       "      <td>0</td>\n",
       "      <td>930.0</td>\n",
       "      <td>951.0</td>\n",
       "      <td>21.0</td>\n",
       "      <td>0</td>\n",
       "      <td>1</td>\n",
       "      <td>0</td>\n",
       "      <td>0</td>\n",
       "      <td>0</td>\n",
       "      <td>0</td>\n",
       "      <td>0</td>\n",
       "      <td>1</td>\n",
       "      <td>0</td>\n",
       "      <td>0</td>\n",
       "      <td>0</td>\n",
       "    </tr>\n",
       "    <tr>\n",
       "      <th>1</th>\n",
       "      <td>0</td>\n",
       "      <td>1258.0</td>\n",
       "      <td>1325.0</td>\n",
       "      <td>27.0</td>\n",
       "      <td>0</td>\n",
       "      <td>1</td>\n",
       "      <td>0</td>\n",
       "      <td>0</td>\n",
       "      <td>0</td>\n",
       "      <td>0</td>\n",
       "      <td>0</td>\n",
       "      <td>0</td>\n",
       "      <td>0</td>\n",
       "      <td>1</td>\n",
       "      <td>0</td>\n",
       "    </tr>\n",
       "    <tr>\n",
       "      <th>2</th>\n",
       "      <td>0</td>\n",
       "      <td>1721.0</td>\n",
       "      <td>1735.0</td>\n",
       "      <td>14.0</td>\n",
       "      <td>0</td>\n",
       "      <td>1</td>\n",
       "      <td>0</td>\n",
       "      <td>0</td>\n",
       "      <td>0</td>\n",
       "      <td>0</td>\n",
       "      <td>0</td>\n",
       "      <td>0</td>\n",
       "      <td>0</td>\n",
       "      <td>0</td>\n",
       "      <td>1</td>\n",
       "    </tr>\n",
       "    <tr>\n",
       "      <th>3</th>\n",
       "      <td>0</td>\n",
       "      <td>2126.0</td>\n",
       "      <td>2145.0</td>\n",
       "      <td>19.0</td>\n",
       "      <td>0</td>\n",
       "      <td>1</td>\n",
       "      <td>0</td>\n",
       "      <td>0</td>\n",
       "      <td>0</td>\n",
       "      <td>0</td>\n",
       "      <td>0</td>\n",
       "      <td>0</td>\n",
       "      <td>1</td>\n",
       "      <td>0</td>\n",
       "      <td>0</td>\n",
       "    </tr>\n",
       "    <tr>\n",
       "      <th>4</th>\n",
       "      <td>0</td>\n",
       "      <td>844.0</td>\n",
       "      <td>859.0</td>\n",
       "      <td>15.0</td>\n",
       "      <td>0</td>\n",
       "      <td>0</td>\n",
       "      <td>0</td>\n",
       "      <td>0</td>\n",
       "      <td>0</td>\n",
       "      <td>1</td>\n",
       "      <td>0</td>\n",
       "      <td>1</td>\n",
       "      <td>0</td>\n",
       "      <td>0</td>\n",
       "      <td>0</td>\n",
       "    </tr>\n",
       "  </tbody>\n",
       "</table>\n",
       "</div>"
      ],
      "text/plain": [
       "   Holiday  Time_In  Time_Out  Time_Taken  Day_Fri  Day_Mon  Day_Sat  Day_Sun  \\\n",
       "0        0    930.0     951.0        21.0        0        1        0        0   \n",
       "1        0   1258.0    1325.0        27.0        0        1        0        0   \n",
       "2        0   1721.0    1735.0        14.0        0        1        0        0   \n",
       "3        0   2126.0    2145.0        19.0        0        1        0        0   \n",
       "4        0    844.0     859.0        15.0        0        0        0        0   \n",
       "\n",
       "   Day_Thu  Day_Tue  Day_Wed  Meal_Type_Breakfast  Meal_Type_Dinner  \\\n",
       "0        0        0        0                    1                 0   \n",
       "1        0        0        0                    0                 0   \n",
       "2        0        0        0                    0                 0   \n",
       "3        0        0        0                    0                 1   \n",
       "4        0        1        0                    1                 0   \n",
       "\n",
       "   Meal_Type_Lunch  Meal_Type_Snack  \n",
       "0                0                0  \n",
       "1                1                0  \n",
       "2                0                1  \n",
       "3                0                0  \n",
       "4                0                0  "
      ]
     },
     "execution_count": 24,
     "metadata": {},
     "output_type": "execute_result"
    }
   ],
   "source": [
    "df = pd.get_dummies(data)\n",
    "df.head()"
   ]
  },
  {
   "cell_type": "markdown",
   "metadata": {
    "id": "NnCf5b8jxcTh"
   },
   "source": [
    "### Selecting features and splitting into train-test set"
   ]
  },
  {
   "cell_type": "code",
   "execution_count": 25,
   "metadata": {
    "id": "j1eivxTFIlry"
   },
   "outputs": [],
   "source": [
    "#Selecting feature and target variables\n",
    "X = df.drop(columns=\"Time_Taken\", axis=1)\n",
    "y = df[\"Time_Taken\"]"
   ]
  },
  {
   "cell_type": "code",
   "execution_count": 26,
   "metadata": {
    "colab": {
     "base_uri": "https://localhost:8080/"
    },
    "id": "FQ2dSfXvGxdl",
    "outputId": "e1e02c17-7ece-48e4-c20a-854aebff0b02"
   },
   "outputs": [
    {
     "name": "stdout",
     "output_type": "stream",
     "text": [
      "(38, 14)\n",
      "(38,)\n"
     ]
    }
   ],
   "source": [
    "# Split your data into training and test sets\n",
    "from sklearn.model_selection import train_test_split\n",
    "X_train, X_test, y_train, y_test = train_test_split(X, y, test_size=0.2, random_state=42)\n",
    "\n",
    "print(X_train.shape)\n",
    "print(y_train.shape)"
   ]
  },
  {
   "cell_type": "markdown",
   "metadata": {
    "id": "AE2zXTK-KQiJ"
   },
   "source": [
    "###Model training"
   ]
  },
  {
   "cell_type": "code",
   "execution_count": 27,
   "metadata": {
    "colab": {
     "base_uri": "https://localhost:8080/",
     "height": 74
    },
    "id": "WKn2YWsRJGw2",
    "outputId": "66ed2fa1-30a6-4dfc-da27-358f8a22a8fe"
   },
   "outputs": [
    {
     "name": "stderr",
     "output_type": "stream",
     "text": [
      "c:\\users\\rahul-pc\\appdata\\local\\programs\\python\\python39\\lib\\site-packages\\sklearn\\_loss\\glm_distribution.py:132: RuntimeWarning: divide by zero encountered in true_divide\n",
      "  return -2 * (y - y_pred) / self.unit_variance(y_pred)\n",
      "c:\\users\\rahul-pc\\appdata\\local\\programs\\python\\python39\\lib\\site-packages\\sklearn\\linear_model\\_glm\\glm.py:42: RuntimeWarning: invalid value encountered in multiply\n",
      "  temp = d1 * family.deviance_derivative(y, y_pred, weights)\n",
      "c:\\users\\rahul-pc\\appdata\\local\\programs\\python\\python39\\lib\\site-packages\\sklearn\\_loss\\glm_distribution.py:323: RuntimeWarning: divide by zero encountered in true_divide\n",
      "  dev = 2 * (xlogy(y, y / y_pred) - y + y_pred)\n"
     ]
    },
    {
     "data": {
      "text/plain": [
       "PoissonRegressor(alpha=1, max_iter=10000)"
      ]
     },
     "execution_count": 27,
     "metadata": {},
     "output_type": "execute_result"
    }
   ],
   "source": [
    "from sklearn import linear_model\n",
    "\n",
    "#Poisson regression\n",
    "poisson = linear_model.PoissonRegressor(alpha=1, max_iter=10000)\n",
    "poisson.fit(X_train,y_train)"
   ]
  },
  {
   "cell_type": "code",
   "execution_count": 28,
   "metadata": {
    "colab": {
     "base_uri": "https://localhost:8080/",
     "height": 74
    },
    "id": "m9ie9Lb5LWDA",
    "outputId": "c2ad0d82-d67a-42b6-8a3e-b9930af0f4a3"
   },
   "outputs": [
    {
     "data": {
      "text/plain": [
       "LinearRegression()"
      ]
     },
     "execution_count": 28,
     "metadata": {},
     "output_type": "execute_result"
    }
   ],
   "source": [
    "#linear Regression\n",
    "linear = linear_model.LinearRegression()\n",
    "linear.fit(X_train,y_train)"
   ]
  },
  {
   "cell_type": "markdown",
   "metadata": {
    "id": "wpo_XVNmLm-v"
   },
   "source": [
    "### Prediction and model evaluation"
   ]
  },
  {
   "cell_type": "code",
   "execution_count": 29,
   "metadata": {
    "id": "0a8-KsL7Ll4u"
   },
   "outputs": [],
   "source": [
    "#prediction\n",
    "y_pred_poisson = poisson.predict(X_test)\n",
    "y_pred_linear = linear.predict(X_test)"
   ]
  },
  {
   "cell_type": "code",
   "execution_count": 30,
   "metadata": {
    "colab": {
     "base_uri": "https://localhost:8080/"
    },
    "id": "NIulpT8IMAB8",
    "outputId": "420562ba-22d3-4c85-f980-5b71b3c756d7"
   },
   "outputs": [
    {
     "name": "stdout",
     "output_type": "stream",
     "text": [
      "R2 score of Poisson Regression:  -0.39227146814404334\n",
      "R2 score of linear Regression:  0.5971320952515309\n",
      "Mean squared error of Poisson Regression:  34.806786703601084\n",
      "Mean squared error of linear Regression:  10.071697618711728\n",
      "Mean poisson deviance of Poisson Regression:  1.6546298709275191\n",
      "Mean poisson deviance of linear Regression:  0.5077203937837595\n"
     ]
    }
   ],
   "source": [
    "#model evaluation\n",
    "from sklearn.metrics import mean_squared_error, mean_poisson_deviance,r2_score\n",
    "\n",
    "print(\"R2 score of Poisson Regression: \", r2_score(y_test,y_pred_poisson))\n",
    "print(\"R2 score of linear Regression: \", r2_score(y_test,y_pred_linear))\n",
    "\n",
    "print(\"Mean squared error of Poisson Regression: \", mean_squared_error(y_test,y_pred_poisson))\n",
    "print(\"Mean squared error of linear Regression: \", mean_squared_error(y_test,y_pred_linear))\n",
    "\n",
    "print(\"Mean poisson deviance of Poisson Regression: \", mean_poisson_deviance(y_test,y_pred_poisson))\n",
    "print(\"Mean poisson deviance of linear Regression: \", mean_poisson_deviance(y_test,y_pred_linear))"
   ]
  },
  {
   "cell_type": "markdown",
   "metadata": {
    "id": "PVWqjG5IOw4g"
   },
   "source": [
    "* Clearly, Poisson regression has less MSE and Mean Poisson deviance and more R2 Score compared to Linear regression. So choosing Poisson regression will give better predictions."
   ]
  },
  {
   "cell_type": "code",
   "execution_count": null,
   "metadata": {},
   "outputs": [],
   "source": []
  },
  {
   "cell_type": "code",
   "execution_count": null,
   "metadata": {},
   "outputs": [],
   "source": []
  },
  {
   "cell_type": "code",
   "execution_count": null,
   "metadata": {},
   "outputs": [],
   "source": []
  },
  {
   "cell_type": "code",
   "execution_count": null,
   "metadata": {},
   "outputs": [],
   "source": []
  },
  {
   "cell_type": "code",
   "execution_count": null,
   "metadata": {},
   "outputs": [],
   "source": []
  },
  {
   "cell_type": "code",
   "execution_count": null,
   "metadata": {},
   "outputs": [],
   "source": []
  },
  {
   "cell_type": "code",
   "execution_count": null,
   "metadata": {},
   "outputs": [],
   "source": []
  },
  {
   "cell_type": "code",
   "execution_count": null,
   "metadata": {},
   "outputs": [],
   "source": []
  },
  {
   "cell_type": "code",
   "execution_count": null,
   "metadata": {},
   "outputs": [],
   "source": []
  },
  {
   "cell_type": "code",
   "execution_count": null,
   "metadata": {},
   "outputs": [],
   "source": []
  },
  {
   "cell_type": "code",
   "execution_count": null,
   "metadata": {},
   "outputs": [],
   "source": []
  }
 ],
 "metadata": {
  "colab": {
   "provenance": []
  },
  "kernelspec": {
   "display_name": "Python 3 (ipykernel)",
   "language": "python",
   "name": "python3"
  },
  "language_info": {
   "codemirror_mode": {
    "name": "ipython",
    "version": 3
   },
   "file_extension": ".py",
   "mimetype": "text/x-python",
   "name": "python",
   "nbconvert_exporter": "python",
   "pygments_lexer": "ipython3",
   "version": "3.9.5"
  }
 },
 "nbformat": 4,
 "nbformat_minor": 1
}
